{
 "metadata": {
  "language_info": {
   "codemirror_mode": {
    "name": "ipython",
    "version": 3
   },
   "file_extension": ".py",
   "mimetype": "text/x-python",
   "name": "python",
   "nbconvert_exporter": "python",
   "pygments_lexer": "ipython3",
   "version": "3.8.5-final"
  },
  "orig_nbformat": 2,
  "kernelspec": {
   "name": "python3",
   "display_name": "Python 3",
   "language": "python"
  }
 },
 "nbformat": 4,
 "nbformat_minor": 2,
 "cells": [
  {
   "cell_type": "code",
   "execution_count": null,
   "metadata": {},
   "outputs": [],
   "source": [
    "import pandas as pd\n",
    "\n",
    "weibodata_1 = pd.read_csv('./weibodata.csv')\n",
    "weibodata_2 = pd.read_csv('./weibodata_2.csv')\n",
    "weibodata_3 = pd.read_csv('./weibodata_3.csv')\n",
    "firstcolum = weibodata_1.columns.values[0]"
   ]
  },
  {
   "cell_type": "code",
   "execution_count": null,
   "metadata": {},
   "outputs": [],
   "source": [
    "del weibodata_1[firstcolum]\n",
    "del weibodata_2[firstcolum]\n",
    "del weibodata_3[firstcolum]"
   ]
  },
  {
   "cell_type": "code",
   "execution_count": null,
   "metadata": {},
   "outputs": [],
   "source": [
    "weibodata_list = [weibodata_1, weibodata_2, weibodata_3]"
   ]
  },
  {
   "cell_type": "code",
   "execution_count": null,
   "metadata": {},
   "outputs": [],
   "source": [
    "weibodata = pd.concat(weibodata_list)"
   ]
  },
  {
   "cell_type": "code",
   "execution_count": null,
   "metadata": {},
   "outputs": [],
   "source": [
    "weibodata.to_csv('./weibodata_final_UTF-8.csv', encoding = 'UTF-8')"
   ]
  },
  {
   "cell_type": "code",
   "execution_count": null,
   "metadata": {},
   "outputs": [],
   "source": [
    "weibodata.to_csv('./weibodata_final_gb18030.csv', encoding = 'gb18030')"
   ]
  },
  {
   "cell_type": "code",
   "execution_count": 1,
   "metadata": {},
   "outputs": [],
   "source": [
    "import pandas as pd\n",
    "train_labled = pd.read_csv('./nCoV_100k_train.labled.csv', engine ='python', encoding = 'UTF-8')\n",
    "test = pd.read_csv('./nCov_10k_test.csv', engine ='python', encoding = 'UTF-8')"
   ]
  },
  {
   "cell_type": "code",
   "execution_count": 2,
   "metadata": {},
   "outputs": [],
   "source": [
    "train_labled = train_labled[train_labled['情感倾向'].isin(['-1','0','1'])]"
   ]
  },
  {
   "cell_type": "code",
   "execution_count": 3,
   "metadata": {},
   "outputs": [],
   "source": [
    "import os\n",
    "os.environ['FLAGS_eager_delete_tensor_gb'] = \"0.0\"\n",
    "CUDA_VISIBLE_DEVICES=\"0\" \n",
    "#显卡设置\n"
   ]
  },
  {
   "cell_type": "code",
   "execution_count": 4,
   "metadata": {},
   "outputs": [],
   "source": [
    "#划分验证集，以8:2的比例进行划分\n",
    "from sklearn.model_selection import train_test_split\n",
    "train_labled = train_labled[[ '情感倾向', '微博中文内容']]\n",
    "train, valid = train_test_split(train_labled, test_size=0.2, random_state=2020)\n",
    "train.to_csv('./train.txt', index=False, header=False, sep='\\t')\n",
    "valid.to_csv('./valid.txt', index=False, header=False, sep='\\t')"
   ]
  },
  {
   "cell_type": "code",
   "execution_count": 5,
   "metadata": {},
   "outputs": [],
   "source": [
    "#加载自定义数据集\n",
    "from paddlehub.datasets.base_nlp_dataset import TextClassificationDataset\n",
    "class MyDataset(TextClassificationDataset):\n",
    "    # 数据集存放目录\n",
    "    base_path = './data22724/test'\n",
    "    # 数据集的标签列表\n",
    "    label_list=['-1', '0', '1']\n",
    "    \n",
    "    def __init__(self, tokenizer, max_seq_len: int = 128, mode: str = 'train'):\n",
    "        if mode == 'train':\n",
    "            data_file = 'train.txt'\n",
    "        elif mode == 'test':\n",
    "            data_file = 'valid.txt'\n",
    "        else:\n",
    "            data_file = 'valid.txt'\n",
    "        super().__init__(\n",
    "            base_path=self.base_path,\n",
    "            tokenizer=tokenizer,\n",
    "            max_seq_len=max_seq_len,\n",
    "            mode=mode,\n",
    "            data_file=data_file,\n",
    "            label_list=self.label_list,\n",
    "            is_file_with_header=False)"
   ]
  },
  {
   "cell_type": "code",
   "execution_count": null,
   "metadata": {},
   "outputs": [],
   "source": [
    "import paddlehub as hub\n",
    "model = hub.Module(name='ernie', task='seq-cls', num_classes=3)\n",
    "tokenizer_ = model.get_tokenizer()\n",
    "train_dataset = MyDataset(tokenizer=tokenizer_)\n",
    "test_dataset = MyDataset(tokenizer=tokenizer_, mode='test')\n",
    "dev_dataset = MyDataset(tokenizer=tokenizer_, mode='dev')"
   ]
  },
  {
   "cell_type": "code",
   "execution_count": null,
   "metadata": {},
   "outputs": [],
   "source": [
    "import paddle\n",
    "optimizer = paddle.optimizer.Adam(learning_rate=1e-4, parameters=model.parameters())\n",
    "trainer = hub.Trainer(model, optimizer, checkpoint_dir='./hub_finetune', use_gpu=True)"
   ]
  },
  {
   "cell_type": "code",
   "execution_count": null,
   "metadata": {},
   "outputs": [],
   "source": [
    "os.environ['FLAGS_eager_delete_tensor_gb'] = \"0.0\"\n",
    "trainer.train(train_dataset, epochs=3, batch_size=12, eval_dataset=dev_dataset, save_interval=1)   # 配置训练参数，启动训练，并指定验证集\n"
   ]
  },
  {
   "cell_type": "code",
   "execution_count": null,
   "metadata": {},
   "outputs": [],
   "source": [
    "result = trainer.evaluate(test_dataset, batch_size=32)  #模型评估"
   ]
  },
  {
   "cell_type": "code",
   "execution_count": null,
   "metadata": {},
   "outputs": [],
   "source": [
    "import time\n",
    "import pandas as pd\n",
    "import paddlehub as hub\n",
    "import numpy as np\n",
    "data = pd.read_csv('./weibodata_final_UTF-8.csv', encoding='UTF-8')\n",
    "# Data to be prdicted\n",
    "data_content = data[['微博内容']]"
   ]
  },
  {
   "cell_type": "code",
   "execution_count": null,
   "metadata": {},
   "outputs": [],
   "source": [
    "data_content_lists = []\n",
    "for i in data_content.微博内容:\n",
    "    data_content_list = []\n",
    "    data_content_list.append(i)\n",
    "    data_content_lists.append(data_content_list)\n",
    "label_map = {-1:'negative', 0: 'neutral', 1: 'positive'}"
   ]
  },
  {
   "cell_type": "code",
   "execution_count": null,
   "metadata": {},
   "outputs": [],
   "source": [
    "model = hub.Module(\n",
    "    name='ernie',\n",
    "    task='seq-cls',\n",
    "    load_checkpoint='./model.pdparams',\n",
    "    label_map=label_map)"
   ]
  },
  {
   "cell_type": "code",
   "execution_count": null,
   "metadata": {},
   "outputs": [],
   "source": [
    "results = model.predict(data_content_lists, max_seq_len=128, batch_size=10, use_gpu=True)"
   ]
  },
  {
   "cell_type": "code",
   "execution_count": null,
   "metadata": {},
   "outputs": [],
   "source": [
    "data = data_content_lists[:1000]\n",
    "start = time.time()\n",
    "results = model.predict(data, max_seq_len=128, batch_size=10, use_gpu=True)\n",
    "end = time.time()\n",
    "print(end-start)\n",
    "#12.947293996810913时间测试"
   ]
  },
  {
   "cell_type": "code",
   "execution_count": null,
   "metadata": {},
   "outputs": [],
   "source": [
    "for idx, text in enumerate(data_content_lists):\n",
    "    print('Data: {} \\t Lable: {}'.format(text[0], results[idx]))"
   ]
  },
  {
   "cell_type": "code",
   "execution_count": null,
   "metadata": {},
   "outputs": [],
   "source": [
    "df = pd.DataFrame(columns=('微博内容', '情感倾向'))\n",
    "for idx, text in enumerate(data_content_lists):\n",
    "    df = df.append({'微博内容':text[0], '情感倾向':results[idx]}, ignore_index=True)"
   ]
  },
  {
   "cell_type": "code",
   "execution_count": null,
   "metadata": {},
   "outputs": [],
   "source": [
    "import pandas as pd\n",
    "data = pd.read_csv('./mood1.csv', encoding='UTF-8')"
   ]
  },
  {
   "cell_type": "code",
   "execution_count": null,
   "metadata": {},
   "outputs": [],
   "source": [
    "mood_data = pd.DataFrame(columns=['时间','情感倾向'])\n",
    "mood_data['时间'] = data['时间']\n",
    "mood_data['情感倾向'] = data['wenben_text$weight']"
   ]
  },
  {
   "cell_type": "code",
   "execution_count": null,
   "metadata": {},
   "outputs": [],
   "source": [
    "import datetime\n",
    "timelist = []\n",
    "timeformat = []\n",
    "for i in mood_data['时间']:\n",
    "    timelist.append(datetime.datetime.strptime(i, \"%Y年%m月%d日 %H:%M\"))\n",
    "for i in timelist:\n",
    "    timeformat.append(i.strftime(\"%Y-%m\"))\n",
    "mood_data['时间'] = timeformat\n",
    "positive = mood_data[mood_data.情感倾向>0]"
   ]
  },
  {
   "cell_type": "code",
   "execution_count": null,
   "metadata": {},
   "outputs": [],
   "source": [
    "count.keys()"
   ]
  },
  {
   "cell_type": "code",
   "execution_count": null,
   "metadata": {},
   "outputs": [],
   "source": [
    "from collections import Counter\n",
    "count_all = Counter(mood_data['时间'])\n",
    "count = Counter(positive.时间)\n",
    "proportion = []\n",
    "for i in count.keys():\n",
    "    numdata = count[i]/count_all[i]\n",
    "    proportion.append(numdata)\n",
    "del proportion[:2]"
   ]
  },
  {
   "cell_type": "code",
   "execution_count": null,
   "metadata": {},
   "outputs": [],
   "source": [
    "yearlist = []\n",
    "yearformat = []\n",
    "for i in count.keys():\n",
    "    yearformat.append(datetime.datetime.strptime(i, \"%Y-%m\"))\n",
    "for i in yearformat:\n",
    "    yearlist.append(i.strftime(\"%Y\"))\n",
    "del yearlist[:2]\n",
    "for i in range(135):\n",
    "    yearlist[i] = int(yearlist[i])\n"
   ]
  },
  {
   "cell_type": "code",
   "execution_count": null,
   "metadata": {},
   "outputs": [],
   "source": [
    "import numpy as np\n",
    "import matplotlib.pyplot as plt\n",
    "from bokeh.plotting import figure,show\n",
    "s = pd.Series(proportion)\n",
    "s.iloc[0] = 0\n",
    "s.iloc[-1] = 0\n",
    "v = pd.Series(yearlist)\n",
    "# 创建数据\n",
    "p = figure(plot_width=1000, plot_height=400)\n",
    "p.patch(v.index, s.values,    # 设置x，y值\n",
    "        line_width=1, line_alpha = 0.8, line_color = 'black',line_dash = [10,4],   # 线型基本设置\n",
    "        fill_color = 'black',fill_alpha = 0.2\n",
    "        )\n",
    "# 绘制面积图\n",
    "# .patch将会把所有点连接成一个闭合面\n",
    "\n",
    "show(p)"
   ]
  },
  {
   "cell_type": "code",
   "execution_count": null,
   "metadata": {},
   "outputs": [],
   "source": [
    "v = pd.Series(yearlist)\n",
    "v"
   ]
  },
  {
   "cell_type": "code",
   "execution_count": null,
   "metadata": {},
   "outputs": [],
   "source": [
    "s"
   ]
  },
  {
   "cell_type": "code",
   "execution_count": null,
   "metadata": {},
   "outputs": [],
   "source": []
  }
 ]
}
